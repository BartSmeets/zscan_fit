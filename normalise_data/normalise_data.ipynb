{
 "cells": [
  {
   "attachments": {},
   "cell_type": "markdown",
   "metadata": {},
   "source": [
    "2023 Bart Smeets\n",
    "\n",
    "# Process raw data\n",
    "\n",
    "This code processes raw z-scan data such that it can be used for further analysis.\n",
    "\n",
    "Its functionalities are:\n",
    "\n",
    "- Average multiple measurements\n",
    "- Calculate errorbars\n",
    "- Normalise data\n",
    "- Export separate Open Aperture and Closed Aperture processed data files"
   ]
  },
  {
   "attachments": {},
   "cell_type": "markdown",
   "metadata": {},
   "source": [
    "## Imports\n",
    "\n",
    "- Import the necessary packages"
   ]
  },
  {
   "cell_type": "code",
   "execution_count": null,
   "metadata": {},
   "outputs": [],
   "source": [
    "# Python standard library\n",
    "from datetime import datetime\n",
    "import tkinter as tk\n",
    "from tkinter import filedialog\n",
    "import os\n",
    "\n",
    "# Required\n",
    "import numpy as np\n",
    "import pandas as pd\n",
    "from sklearn.linear_model import HuberRegressor\n",
    "import matplotlib.pyplot as plt"
   ]
  },
  {
   "attachments": {},
   "cell_type": "markdown",
   "metadata": {},
   "source": [
    "## Load data\n",
    "\n",
    "- Create window for file selection\n",
    "- Store data in data structure:\n",
    "\n",
    "    0. Index 0 controls the individual measurements\n",
    "    1. Index 1 controls the number of data points within an individual measurement\n",
    "    2. Index 2 stores the different types of data of an individual measurement at a specific data point:\n",
    "        * index 2 = 0: z-data\n",
    "        * index 2 = 1: open aperture\n",
    "        * index 2 = 2: closed aperture\n",
    "        \n",
    "- Average data of individual measurements\n"
   ]
  },
  {
   "cell_type": "code",
   "execution_count": null,
   "metadata": {},
   "outputs": [],
   "source": [
    "# Set initial directory\n",
    "INITIAL_PATH = os.environ.get('THESIS_DATA')\n",
    "\n",
    "# Create window for file selection\n",
    "root = tk.Tk()\n",
    "root.withdraw()\n",
    "root.attributes('-topmost', True)\n",
    "FILE_NAMES = filedialog.askopenfilenames(initialdir=INITIAL_PATH, title='Select Data Files')\n",
    "root.destroy()\n",
    "\n",
    "# Change working directory\n",
    "## Directory is the folder where the selected files are located\n",
    "index = FILE_NAMES[0].rfind('/')\n",
    "DIRECTORY = FILE_NAMES[0][:index]\n",
    "os.chdir(DIRECTORY)\n",
    "\n",
    "# Data loading\n",
    "N_MEASUREMENTS = len(FILE_NAMES)\n",
    "for i in range(N_MEASUREMENTS):\n",
    "    data = np.loadtxt(FILE_NAMES[i])\n",
    "    ## At the first iteration, initialise data structure\n",
    "    if i == 0:    \n",
    "        N_DATAPOINTS = len(data[:,0])\n",
    "        DATA = np.ndarray((N_MEASUREMENTS, N_DATAPOINTS, 3))    # 0: measurement; 1: data point; 2: data type\n",
    "    ## Store data in data structure\n",
    "    DATA[i, :, 0] = data[:,0]\n",
    "    DATA[i, :, 1] = data[:, 1]\n",
    "    DATA[i, :, 2] = data[:, 2]\n",
    "\n",
    "# Average data\n",
    "DATA_AVERAGE = np.ndarray((N_DATAPOINTS, 3))    # Initialise data structure\n",
    "for i in range(N_DATAPOINTS):\n",
    "    ## Calculate average\n",
    "    OA_averge = np.average(DATA[:, i, 1])\n",
    "    CA_averge = np.average(DATA[:, i, 2])\n",
    "    ## Store average in data structure\n",
    "    DATA_AVERAGE[:, 0] = DATA[0, :, 0]\n",
    "    DATA_AVERAGE[i, 1] = OA_averge\n",
    "    DATA_AVERAGE[i, 2] = CA_averge"
   ]
  },
  {
   "attachments": {},
   "cell_type": "markdown",
   "metadata": {},
   "source": [
    "## Plot unprocessed data"
   ]
  },
  {
   "cell_type": "code",
   "execution_count": null,
   "metadata": {},
   "outputs": [],
   "source": [
    "fig, ax = plt.subplots(2, 2, figsize=(8,7))\n",
    "\n",
    "# Plot individual measurements\n",
    "for i in range(N_MEASUREMENTS):\n",
    "    file_name = FILE_NAMES[i]\n",
    "    ax[0,0].plot(DATA[i, :, 0], DATA[i, :, 1], 'o', label=file_name[index+1:])\n",
    "    ax[0,1].plot(DATA[i, :, 0], DATA[i, : , 2], 'o')\n",
    "# Plot average of measurements\n",
    "ax[1,0].plot(DATA_AVERAGE[:,0], DATA_AVERAGE[:, 1], 'o-')\n",
    "ax[1,1].plot(DATA_AVERAGE[:,0], DATA_AVERAGE[:, 2], 'o-')\n",
    "# Label axes\n",
    "ax[0,0].legend(bbox_to_anchor=(2.9,1))\n",
    "ax[0,0].set_title('Open Aperture')\n",
    "ax[1,0].set_title('Open Aperture (average)')\n",
    "ax[1,0].set_xlabel('z [mm]')\n",
    "ax[0,0].set_ylabel('Transmittance')\n",
    "ax[1,0].set_ylabel('Transmittance')\n",
    "ax[0,1].set_title('Closed Aperture')\n",
    "ax[1,1].set_title('Closed Aperture (average)')\n",
    "ax[1,1].set_xlabel('z [mm]')\n",
    "\n",
    "plt.show()"
   ]
  },
  {
   "attachments": {},
   "cell_type": "markdown",
   "metadata": {},
   "source": [
    "## Calculate errorbars\n",
    "\n",
    "- Mean Absolute Error (MAE) has been chosen to estimate the deviation of the data, because it is less sensitive to outliers than the variance.\n"
   ]
  },
  {
   "cell_type": "code",
   "execution_count": null,
   "metadata": {},
   "outputs": [],
   "source": [
    "MAE = np.ndarray((N_DATAPOINTS, 2))    # Initialise data structure\n",
    "\n",
    "# Calculate the MAE for every data point\n",
    "for i in range(N_DATAPOINTS):    \n",
    "    MAE[i, 0] = np.sum(np.abs(DATA[:, i, 1] - DATA_AVERAGE[i,1])) / N_MEASUREMENTS\n",
    "    MAE[i, 1] = np.sum(np.abs(DATA[:, i, 2] - DATA_AVERAGE[i,2])) / N_MEASUREMENTS"
   ]
  },
  {
   "attachments": {},
   "cell_type": "markdown",
   "metadata": {},
   "source": [
    "## Normalise data\n",
    "\n",
    "- Normalise the data with respect to the farfield\n",
    "\n",
    "To determine the baseline, it uses the Huber regression model, which is a linear regression model that is robust to outliers, see https://scikit-learn.org/stable/modules/generated/sklearn.linear_model.HuberRegressor.html"
   ]
  },
  {
   "cell_type": "code",
   "execution_count": null,
   "metadata": {},
   "outputs": [],
   "source": [
    "# Initialise data structures\n",
    "DATA_AVERAGE_NORM = np.ndarray((N_DATAPOINTS, 3))\n",
    "DATA_NORM = np.ndarray((N_MEASUREMENTS, N_DATAPOINTS, 3))\n",
    "MAE_NORM = np.ndarray((N_DATAPOINTS,2))\n",
    "\n",
    "# Normalise data and store in data structure\n",
    "## Store z-position\n",
    "DATA_AVERAGE_NORM[:, 0] = DATA_AVERAGE[:,0]\n",
    "DATA_NORM[:,:,0] = DATA[:,:,0]\n",
    "## Store normalised open and closed aperture and errorbars\n",
    "for i in [1, 2]:\n",
    "    ### Determine normalisation factor\n",
    "    baseline = HuberRegressor().fit(DATA_AVERAGE[:, 0].reshape(-1,1), DATA_AVERAGE[:, i])\n",
    "    normalisation = np.average(baseline.predict(DATA_AVERAGE[:, 0].reshape(-1,1)))\n",
    "    ### Store normalisation\n",
    "    DATA_AVERAGE_NORM[:, i] = DATA_AVERAGE[:, i] / normalisation\n",
    "    MAE_NORM[:, i-1] = MAE[:, i-1] / normalisation\n",
    "    for j in range(N_MEASUREMENTS):\n",
    "        baseline = HuberRegressor().fit(DATA[j, :, 0].reshape(-1,1), DATA[j, :, i])\n",
    "        normalisation = np.average(baseline.predict(DATA[j, :, 0].reshape(-1,1)))\n",
    "        DATA_NORM[j,:, i] = DATA[j,:, i] / normalisation  "
   ]
  },
  {
   "attachments": {},
   "cell_type": "markdown",
   "metadata": {},
   "source": [
    "## Plot normalised data"
   ]
  },
  {
   "cell_type": "code",
   "execution_count": null,
   "metadata": {},
   "outputs": [],
   "source": [
    "fig1, ax1 = plt.subplots(2, 2, figsize=(8,7))\n",
    "\n",
    "# Plot individual measurements\n",
    "for i in range(N_MEASUREMENTS):\n",
    "    file_name = FILE_NAMES[i]\n",
    "    ax1[0,0].errorbar(DATA_NORM[i, :, 0], DATA_NORM[i, :, 1], MAE_NORM[:,0], fmt='o', label=file_name[index+1:])\n",
    "    ax1[0,1].errorbar(DATA_NORM[i, :, 0], DATA_NORM[i, : , 2], MAE_NORM[:,0], fmt='o')\n",
    "    ax1[0,0].axhline(1, ls=':', color='grey')\n",
    "    ax1[0,1].axhline(1, ls=':', color='grey')\n",
    "# Plot average of measurements\n",
    "ax1[1,0].errorbar(DATA_AVERAGE_NORM[:,0], DATA_AVERAGE_NORM[:,1], MAE_NORM[:,0], fmt='o')    # Open aperture\n",
    "ax1[1,1].errorbar(DATA_AVERAGE_NORM[:,0], DATA_AVERAGE_NORM[:,2], MAE_NORM[:,1], fmt='o')    # Closed aperture\n",
    "ax1[1,0].axhline(1, ls=':', color='grey')\n",
    "ax1[1,1].axhline(1, ls=':', color='grey')\n",
    "# Label axes\n",
    "ax1[0,0].legend(bbox_to_anchor=(2.9,1))\n",
    "ax1[0,0].set_title('Normalised Open Aperture')\n",
    "ax1[1,0].set_title('Normalised Open Aperture (average)')\n",
    "ax1[1,0].set_xlabel('z [mm]')\n",
    "ax1[0,0].set_ylabel('Normalised Transmittance')\n",
    "ax1[1,0].set_ylabel('Normalised Transmittance')\n",
    "ax1[0,1].set_title('Normalised Closed Aperture')\n",
    "ax1[1,1].set_title('Normalised Closed Aperture (average)')\n",
    "ax1[1,1].set_xlabel('z [mm]')\n",
    "\n",
    "plt.show()"
   ]
  },
  {
   "attachments": {},
   "cell_type": "markdown",
   "metadata": {},
   "source": [
    "## Export normalised data\n",
    "\n",
    "- Export results in text-file\n",
    "- Export figures\n",
    "- Generate INPUT_PARAMETERS.csv"
   ]
  },
  {
   "cell_type": "code",
   "execution_count": null,
   "metadata": {},
   "outputs": [],
   "source": [
    "# Create export directory\n",
    "timeCode = datetime.now()\n",
    "EXPORT_FOLDER = \"/Normalised_Data_\" + timeCode.strftime(\"%Y%m%d-%H%M\")\n",
    "EXPORT_DIRECTORY = DIRECTORY + EXPORT_FOLDER\n",
    "os.mkdir(EXPORT_DIRECTORY)\n",
    "os.chdir(EXPORT_DIRECTORY)\n",
    "\n",
    "\n",
    "# Save figures\n",
    "fig.savefig('OUTPUT_RAW_DATA.png', bbox_inches='tight')\n",
    "fig1.savefig('OUTPUT_NORMALISED_DATA.png', bbox_inches='tight')\n",
    "\n",
    "# Generate input file containing all parameters necessary for zscan-fit\n",
    "INPUT_FILE = pd.DataFrame(columns=['Wavelength [nm]', 'Pulse Energy [uJ]', 'zR [um]', 'W0 [um]', 'alpha [cm-1]', 'L [cm]'])\n",
    "INPUT_FILE.to_csv(EXPORT_DIRECTORY + '/INPUT_PARAMETERS.csv', sep=';', index=False)\n",
    "\n",
    "\n",
    "# Intialise Open Aperture Data\n",
    "OA_EXPORT = np.ndarray((N_DATAPOINTS, 3))    # 0: z-position; 1: average OA; 2: errorbar\n",
    "OA_EXPORT[:, 0] = DATA_AVERAGE_NORM[:,0]\n",
    "OA_EXPORT[:, 1] = DATA_AVERAGE_NORM[:, 1]\n",
    "OA_EXPORT[:, 2] = MAE_NORM[:, 0]\n",
    "OA_STRING = EXPORT_DIRECTORY + '/DATA_OA_AVERAGE.txt'\n",
    "\n",
    "# Intialise Closed Aperture Data\n",
    "CA_EXPORT = np.ndarray((N_DATAPOINTS, 3))    # 0: z-position; 1: average OA; 2: errorbar\n",
    "CA_EXPORT[:, 0] = DATA_AVERAGE_NORM[:,0]\n",
    "CA_EXPORT[:, 1] = DATA_AVERAGE_NORM[:, 2]\n",
    "CA_EXPORT[:, 2] = MAE_NORM[:, 1]\n",
    "CA_STRING = EXPORT_DIRECTORY + '/DATA_CA_AVERAGE.txt'\n",
    "\n",
    "# Export Files\n",
    "np.savetxt(OA_STRING, OA_EXPORT)\n",
    "np.savetxt(CA_STRING, CA_EXPORT)\n",
    "\n",
    "# Export normalised data of individual measurements\n",
    "for i in range(N_MEASUREMENTS):\n",
    "    ## Initialise data structure\n",
    "    file_oa_export = np.ndarray((N_DATAPOINTS, 3))\n",
    "    file_ca_export = np.ndarray((N_DATAPOINTS, 3))\n",
    "    ## Prepare file name\n",
    "    file_name = FILE_NAMES[i]\n",
    "    file_oa_string = EXPORT_DIRECTORY + '/DATA_OA_' + file_name[index+1:]\n",
    "    file_ca_string = EXPORT_DIRECTORY + '/DATA_CA_' + file_name[index+1:]\n",
    "    ## Store data in data structure\n",
    "    ### 0: z-position; 1: average OA; 2: errorbar\n",
    "    file_oa_export[:, 0] = DATA_NORM[i, :, 0]\n",
    "    file_oa_export[:, 1] = DATA_NORM[i, :, 1]\n",
    "    file_oa_export[:, 2] = MAE_NORM[:, 0]\n",
    "    file_ca_export[:, 0] = DATA_NORM[i, :, 0]\n",
    "    file_ca_export[:, 1] = DATA_NORM[i, :, 2]\n",
    "    file_ca_export[:, 2] = MAE_NORM[:, 1]\n",
    "    ## Export data\n",
    "    np.savetxt(file_oa_string, file_oa_export)\n",
    "    np.savetxt(file_ca_string, file_ca_export)\n",
    "\n",
    "\n",
    "# Open output folder\n",
    "os.startfile(EXPORT_DIRECTORY)"
   ]
  }
 ],
 "metadata": {
  "kernelspec": {
   "display_name": "test",
   "language": "python",
   "name": "python3"
  },
  "language_info": {
   "codemirror_mode": {
    "name": "ipython",
    "version": 3
   },
   "file_extension": ".py",
   "mimetype": "text/x-python",
   "name": "python",
   "nbconvert_exporter": "python",
   "pygments_lexer": "ipython3",
   "version": "3.8.16"
  },
  "orig_nbformat": 4,
  "vscode": {
   "interpreter": {
    "hash": "58fb49bee6f5383d5e5423e0cef307c970590fc2f62f27c30b3f704a477075bd"
   }
  }
 },
 "nbformat": 4,
 "nbformat_minor": 2
}
