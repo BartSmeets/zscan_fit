{
 "cells": [
  {
   "cell_type": "markdown",
   "metadata": {},
   "source": [
    "Written by Bart Smeets (2022)"
   ]
  },
  {
   "cell_type": "markdown",
   "metadata": {},
   "source": [
    "# Imports"
   ]
  },
  {
   "cell_type": "code",
   "execution_count": 1,
   "metadata": {},
   "outputs": [],
   "source": [
    "import numpy as np\n",
    "import matplotlib.pyplot as plt\n",
    "import os\n",
    "import tkinter as tk\n",
    "from tkinter import filedialog\n",
    "from tkinter import ttk\n",
    "from scipy.optimize import minimize\n",
    "from scipy.integrate import solve_ivp"
   ]
  },
  {
   "cell_type": "markdown",
   "metadata": {},
   "source": [
    "# User Interface"
   ]
  },
  {
   "cell_type": "code",
   "execution_count": 2,
   "metadata": {},
   "outputs": [],
   "source": [
    "# Set Directory\n",
    "INITIAL_PATH = os.environ.get('THESIS_DATA')\n",
    "root = tk.Tk()\n",
    "root.withdraw()\n",
    "root.attributes('-topmost', True)\n",
    "\n",
    "DIRECTORY = filedialog.askdirectory(initialdir=INITIAL_PATH, title='Select Data Director')\n",
    "os.chdir(DIRECTORY)    # Change working directory\n",
    "root.destroy()\n",
    "\n",
    "\n",
    "# Load parameter data (if existing)\n",
    "if os.path.exists('OUTPUT_BEAM_PROFILE.txt'):\n",
    "    PARAMETER_DATA = np.loadtxt('OUTPUT_BEAM_PROFILE.txt', skiprows=1, dtype=object)\n",
    "else:\n",
    "    PARAMETER_DATA = np.ndarray((4,4), dtype=object)\n",
    "    PARAMETER_DATA[2,1] = '663.4131'\n",
    "    PARAMETER_DATA[0,1] = '12.157123' "
   ]
  },
  {
   "cell_type": "code",
   "execution_count": 3,
   "metadata": {},
   "outputs": [],
   "source": [
    "# Create Window\n",
    "root = tk.Tk()\n",
    "root.geometry('750x300')\n",
    "root.title('User Input')\n",
    "root.resizable(0,0)\n",
    "root.attributes('-topmost', True)\n",
    "\n",
    "# Rayleigh length\n",
    "## Create storage object and assign initial value\n",
    "zR = tk.StringVar(value = str(PARAMETER_DATA[2,1]))\n",
    "## Create labels\n",
    "zR_label = ttk.Label(root, text=r'Rayleigh length:')\n",
    "zR_unit_label = ttk.Label(root, text='um')\n",
    "## Place labels in window\n",
    "zR_label.grid(column=0, row=0, sticky=tk.W, padx=5, pady=5)\n",
    "zR_unit_label.grid(column=2, row=0, sticky=tk.W, padx=5, pady=5)\n",
    "## Create and place entry field\n",
    "zR_entry = tk.Entry(root, textvariable=zR)\n",
    "zR_entry.grid(column=1, row=0, sticky=tk.E, padx=5, pady=5)\n",
    "\n",
    "# Waist\n",
    "## Create storage object and assign initial value\n",
    "w0 = tk.StringVar(value = str(PARAMETER_DATA[0,1]))\n",
    "## Create labels\n",
    "w0_label = ttk.Label(root, text=r'Beam waist:')\n",
    "w0_unit_label = ttk.Label(root, text='um')\n",
    "## Place labels in window\n",
    "w0_label.grid(column=0, row=1, sticky=tk.W, padx=5, pady=5)\n",
    "w0_unit_label.grid(column=2, row=1, sticky=tk.W, padx=5, pady=5)\n",
    "## Create and place entry field\n",
    "w0_entry = tk.Entry(root, textvariable=w0)\n",
    "w0_entry.grid(column=1, row=1, sticky=tk.E, padx=5, pady=5)\n",
    "\n",
    "# Linear absorption coefficient\n",
    "## Create storage object and assign initial value\n",
    "alpha0 = tk.StringVar(value = '6.67591')\n",
    "## Create and place label\n",
    "alpha0_label = ttk.Label(root, text=r'Linear absorption coefficient:')\n",
    "alpha0_label.grid(column=0, row=2, sticky=tk.W, padx=5, pady=5)\n",
    "## Create and place entry field\n",
    "alpha0_entry = tk.Entry(root, textvariable=alpha0)\n",
    "alpha0_entry.grid(column=1, row=2, sticky=tk.E, padx=5, pady=5)\n",
    "\n",
    "# Laser power\n",
    "## Create storage object and assign initial value\n",
    "PLaser = tk.StringVar(value = '1.789')\n",
    "## Create labels\n",
    "PLaser_label = ttk.Label(root, text=r'Laser Power:')\n",
    "PLaser_unit_label = ttk.Label(root, text='uW')\n",
    "## Place labels in window\n",
    "PLaser_label.grid(column=0, row=3, sticky=tk.W, padx=5, pady=5)\n",
    "PLaser_unit_label.grid(column=2, row=3, sticky=tk.W, padx=5, pady=5)\n",
    "## Create and place entry field\n",
    "PLaser_entry = tk.Entry(root, textvariable=PLaser)\n",
    "PLaser_entry.grid(column=1, row=3, sticky=tk.E, padx=5, pady=5)\n",
    "\n",
    "# Sample thickness\n",
    "## Create storage object and assign initial value\n",
    "L = tk.StringVar(value = '0.1')\n",
    "## Create labels\n",
    "L_label = ttk.Label(root, text=r'Sample thickness:')\n",
    "L_unit_label = ttk.Label(root, text='cm')\n",
    "## Place labels in window\n",
    "L_label.grid(column=0, row=4, sticky=tk.W, padx=5, pady=5)\n",
    "L_unit_label.grid(column=2, row=4, sticky=tk.W, padx=5, pady=5)\n",
    "## Create and place entry field\n",
    "L_entry = tk.Entry(root, textvariable=L)\n",
    "L_entry.grid(column=1, row=4, sticky=tk.E, padx=5, pady=5)\n",
    "\n",
    "# File name directory\n",
    "## Define browse function to assign to button\n",
    "def browse(DIRECTORY):\n",
    "    file.set(filedialog.askopenfilename(initialdir=DIRECTORY, title='Select Data File'))\n",
    "    SHOW = file.get()\n",
    "    show.set(SHOW[SHOW.rfind('/') + 1 :])    # Cut file-location at last / -> only show file name\n",
    "    return  \n",
    "## Create storage object and assign initial value\n",
    "file = tk.StringVar(value='')\n",
    "show = tk.StringVar(value='')\n",
    "## Create and place labels\n",
    "file_label = ttk.Label(root, text='Data File:')\n",
    "file_label.grid(column=0, row=5, sticky=tk.W, padx=5, pady=5)\n",
    "## Create and place entry field\n",
    "file_entry = tk.Entry(root, textvariable=show, width = 75)\n",
    "file_entry.grid(column=1, row=5, sticky=tk.E, padx=5, pady=5)\n",
    "## Create and place browse button\n",
    "file_browse= tk.Button(root, text='Browse', command=lambda: browse(DIRECTORY))\n",
    "file_browse.grid(column=3, row=5, sticky=tk.E, padx=5, pady=5)\n",
    "\n",
    "# Apply button\n",
    "apply = tk.Button(root, text='Apply', command=lambda: root.destroy())\n",
    "apply.grid(column=3, row=6, sticky=tk.E, padx=5, pady=5)\n",
    "\n",
    "root.mainloop()"
   ]
  },
  {
   "cell_type": "code",
   "execution_count": 4,
   "metadata": {},
   "outputs": [],
   "source": [
    "## Get values\n",
    "ALPHA0 = float(alpha0.get())\n",
    "Z_R = float(zR.get()) * 1e-3\n",
    "W0 = float(w0.get()) * 1e-4\n",
    "P_LASER = float(PLaser.get())\n",
    "P_LASER = P_LASER*1e-7/(6e-9)\n",
    "L = float(L.get())\n",
    "\n",
    "FILE_NAME = file.get()"
   ]
  },
  {
   "cell_type": "markdown",
   "metadata": {},
   "source": [
    "# Load data"
   ]
  },
  {
   "cell_type": "code",
   "execution_count": 5,
   "metadata": {},
   "outputs": [],
   "source": [
    "MEASUREMENT = np.loadtxt(FILE_NAME)\n",
    "\n",
    "Z_DATA = MEASUREMENT[:, 0]\n",
    "I_DATA = MEASUREMENT[:, 1]\n",
    "SIGMA_I = MEASUREMENT[:,2]\n",
    "\n",
    "I0 = 2 * P_LASER / (np.pi * W0**2)"
   ]
  },
  {
   "cell_type": "markdown",
   "metadata": {},
   "source": [
    "# Plot rough data"
   ]
  },
  {
   "cell_type": "code",
   "execution_count": 6,
   "metadata": {},
   "outputs": [
    {
     "data": {
      "text/plain": [
       "<function matplotlib.pyplot.show(close=None, block=None)>"
      ]
     },
     "execution_count": 6,
     "metadata": {},
     "output_type": "execute_result"
    },
    {
     "data": {
      "image/png": "[encoded data removed]",
      "text/plain": [
       "<Figure size 640x480 with 1 Axes>"
      ]
     },
     "metadata": {},
     "output_type": "display_data"
    }
   ],
   "source": [
    "fig1 = plt.figure()\n",
    "\n",
    "#plt.plot(z, I, 'o')\n",
    "plt.errorbar(Z_DATA, I_DATA, SIGMA_I, fmt='o')\n",
    "\n",
    "plt.xlabel('z [mm]')\n",
    "plt.ylabel('Normalised transmittance')\n",
    "plt.show"
   ]
  },
  {
   "cell_type": "markdown",
   "metadata": {},
   "source": [
    "# Fit"
   ]
  },
  {
   "cell_type": "markdown",
   "metadata": {},
   "source": [
    "## Define fitting model"
   ]
  },
  {
   "cell_type": "markdown",
   "metadata": {},
   "source": [
    "### Absorption functions"
   ]
  },
  {
   "cell_type": "code",
   "execution_count": 7,
   "metadata": {},
   "outputs": [],
   "source": [
    "# Beam intensity profile\n",
    "def I(z, z0, I0, Z_R):\n",
    "    return I0 / (1+((z-z0)/Z_R)**2)\n",
    "\n",
    "# Differential intensity inside sample\n",
    "def dI_dz(z, I, beta, ALPHA0):\n",
    "    term1 = - ALPHA0 * I\n",
    "    term2 = - beta * I**2\n",
    "    return term1 + term2\n",
    "\n",
    "# Solve differential equation to find transmittance\n",
    "def transmittance(z, z0, beta, L, ALPHA0, I0, Z_R):\n",
    "    I_in = I(z, z0, I0, Z_R)    # Initial condition\n",
    "    sol = solve_ivp(dI_dz, [0, L], I_in, args=(beta, ALPHA0), t_eval=[L])    # Runge-Kutta 45 method\n",
    "    I_out = sol.y[:, 0]\n",
    "    transmittance = (I_out / I_in) / (I_out[0] / I_in[0])\n",
    "    return transmittance"
   ]
  },
  {
   "cell_type": "markdown",
   "metadata": {},
   "source": [
    "### Chi2 minimising"
   ]
  },
  {
   "cell_type": "code",
   "execution_count": 8,
   "metadata": {},
   "outputs": [],
   "source": [
    "# Chi2\n",
    "def Chi2(data, z0, beta, L, ALPHA0, I0, Z_R):\n",
    "    Z_DATA = data[:, 0]\n",
    "    I_DATA = data[:, 1]\n",
    "    \n",
    "    ## Calculate transmittance\n",
    "    weight = 1 / np.sqrt(1+((Z_DATA-z0)/Z_R)**2)    # Weigth function to add importance to focal point\n",
    "    I_calc = transmittance(Z_DATA, z0, beta, L, ALPHA0, I0, Z_R)\n",
    "    \n",
    "    ## Calculate chi2\n",
    "    if 0 in data[:, 2]:    # Poorly defined uncertainty\n",
    "        chi2Vector = weight*(I_DATA - I_calc)**2\n",
    "    else:\n",
    "        chi2Vector = weight*(I_DATA - I_calc)**2 #/ data[:,2]**2\n",
    "    return np.sum(chi2Vector)\n",
    "\n",
    "# Chi2 minimalisation\n",
    "def basinhopping(data, p0, L, ALPHA0, I0, Z_R):\n",
    "    BOUNDS = ((0, 20), (0, ALPHA0))\n",
    "    \n",
    "    fitting_model = lambda x: Chi2(data, x[0], x[1], L, ALPHA0, I0, Z_R)\n",
    "    \n",
    "    ## Set initial chi2\n",
    "    popt = minimize(fitting_model, x0=p0, bounds=BOUNDS)\n",
    "    pBest = popt.x\n",
    "    chi2Best = fitting_model(pBest)\n",
    "    \n",
    "    return pBest, chi2Best"
   ]
  },
  {
   "cell_type": "markdown",
   "metadata": {},
   "source": [
    "## Run fitting model"
   ]
  },
  {
   "cell_type": "code",
   "execution_count": 9,
   "metadata": {},
   "outputs": [],
   "source": [
    "# Initial guess\n",
    "Z0_0 = 8\n",
    "BETA_0 = 2e-6\n",
    "N_RUNS = 1\n",
    "\n",
    "# Progress bar\n",
    "## Create window\n",
    "root = tk.Tk()\n",
    "root.geometry('300x120')\n",
    "root.title('Progress bar')\n",
    "root.resizable(0,0)\n",
    "root.attributes('-topmost', True)\n",
    "## Create and place progress bar\n",
    "pb = ttk.Progressbar(root, orient='horizontal', mode='determinate', length='280')\n",
    "pb.grid(column=0, row=0, columnspan=2, padx=10, pady=20)\n",
    "## Ititialise progress bar\n",
    "progress = 'Number of models computed: 0/' + str(N_RUNS) \n",
    "value_label = ttk.Label(root, text=progress)\n",
    "value_label.grid(column=0, row=1, columnspan=2)\n",
    "root.update()\n",
    "\n",
    "# Run model\n",
    "RUNS = np.ndarray((N_RUNS,3))    # Intialise data structure\n",
    "fitting_model = lambda x: Chi2(MEASUREMENT, x[0], x[1], L, ALPHA0, I0, Z_R)\n",
    "for i in range(N_RUNS):\n",
    "    p0 = np.array([Z0_0, BETA_0])    # Initial guess\n",
    "    popt, chi2 = basinhopping(MEASUREMENT, p0, L, ALPHA0, I0, Z_R)    # Run model\n",
    "\n",
    "    ## Save results\n",
    "    RUNS[i, 0]=popt[0]\n",
    "    RUNS[i, 1]=popt[1]\n",
    "    RUNS[i,2] = chi2\n",
    "\n",
    "    ## Update progress bar\n",
    "    pb['value'] += 100 / N_RUNS    \n",
    "    value_label.config(text= 'Number of models computed: ' + str(i+1) + '/' + str(N_RUNS))\n",
    "    root.update()\n",
    "\n",
    "# Find best results\n",
    "CHI2_BEST = np.amin(RUNS[:,2])\n",
    "index = np.where(RUNS[:,2]==CHI2_BEST)\n",
    "P_BEST = RUNS[index, 0:2].reshape(-1)\n",
    "root.destroy()\n"
   ]
  },
  {
   "cell_type": "markdown",
   "metadata": {},
   "source": [
    "## Plot Results"
   ]
  },
  {
   "cell_type": "markdown",
   "metadata": {},
   "source": [
    "### Best Result"
   ]
  },
  {
   "cell_type": "code",
   "execution_count": 10,
   "metadata": {},
   "outputs": [
    {
     "data": {
      "image/png": "[encoded data removed]",
      "text/plain": [
       "<Figure size 640x480 with 1 Axes>"
      ]
     },
     "metadata": {},
     "output_type": "display_data"
    }
   ],
   "source": [
    "Z_PLOT = np.linspace(0, Z_DATA[-1], 100)\n",
    "\n",
    "textstr = '\\n'.join((\n",
    "    r'$X^{2}=%.2e$' % (CHI2_BEST, ),\n",
    "    r'$z_{0}=%.2f mm$' % (P_BEST[0], ),\n",
    "    r'$\\beta=%.2e$' % (P_BEST[1],)))\n",
    "\n",
    "fig2 = plt.figure()\n",
    "plt.errorbar(Z_DATA, I_DATA, SIGMA_I, fmt= 'o')\n",
    "plt.plot(Z_PLOT, transmittance(Z_PLOT, P_BEST[0], P_BEST[1], L, ALPHA0, I0, Z_R))\n",
    "plt.text(0,np.amin(I_DATA), textstr)\n",
    "\n",
    "plt.xlabel('z [mm]')\n",
    "plt.ylabel('Normalised Transmittance')\n",
    "plt.show()"
   ]
  },
  {
   "cell_type": "markdown",
   "metadata": {},
   "source": [
    "# Calculate errorbars"
   ]
  },
  {
   "cell_type": "code",
   "execution_count": 11,
   "metadata": {},
   "outputs": [],
   "source": [
    "def Errorbar(P_BEST, CHI2_BEST, i, L, ALPHA0, I0, Z_R, data):\n",
    "    # Initialise datastructure\n",
    "    N_PARAMETERS = 2\n",
    "    N_POINTS = len(data[:,0])\n",
    "    STEP = 0.005\n",
    "    lBound = [P_BEST[i], 0]\n",
    "    rBound = [P_BEST[i], 0]\n",
    "    lTest = np.array(P_BEST)\n",
    "    rTest = np.array(P_BEST)\n",
    "\n",
    "    # Determine chi2 region\n",
    "    WEIGHT = np.sum(1/np.sqrt(1+((data[:,0]-P_BEST[0])/Z_R)**2)) / N_POINTS\n",
    "    CHI2_COMPARISON = (N_POINTS - N_PARAMETERS) * WEIGHT + CHI2_BEST    # Degrees of freedom of model * average value of the weigth function\n",
    "\n",
    "    # Error calculation\n",
    "    newChi2 = 0\n",
    "    iteration = 0\n",
    "    while newChi2 < CHI2_COMPARISON and iteration != 100:\n",
    "        iteration += 1\n",
    "        rBound[0] = (1+STEP)*rBound[0]\n",
    "        lBound[0] = (1-STEP)*lBound[0]\n",
    "        rTest[i] = rBound[0]\n",
    "        lTest[i] = lBound[0]\n",
    "\n",
    "        rBound[1] = Chi2(data, rTest[0], rTest[1], L, ALPHA0, I0, Z_R)\n",
    "        lBound[1] = Chi2(data, lTest[0], lTest[1], L, ALPHA0, I0, Z_R)\n",
    "        newChi2 = max(lBound[1], rBound[1])\n",
    "\n",
    "    # Choose appropriate error\n",
    "    if rBound[1] > lBound[1]:\n",
    "        errorbar = rBound[0]\n",
    "        varyChi = rBound[1]\n",
    "    else:\n",
    "        errorbar = lBound[0]\n",
    "        varyChi = lBound[1]\n",
    "\n",
    "    return np.abs(errorbar-P_BEST[i]), varyChi"
   ]
  },
  {
   "cell_type": "code",
   "execution_count": 12,
   "metadata": {},
   "outputs": [
    {
     "name": "stdout",
     "output_type": "stream",
     "text": [
      "Fitting parameters\n",
      "X2 = 0.05\n",
      "z0 = (8.68 +- 5.62) mm; X2 span: 2.13\n",
      "beta = 1.50e-06 +- 9.7e-07; X2 span: 0.17\n"
     ]
    }
   ],
   "source": [
    "# Create data structure\n",
    "SIGMA_P = np.zeros(3)\n",
    "CHI2_SPAN = np.zeros(3)\n",
    "SIGMA_P[0], CHI2_SPAN[0] = Errorbar(P_BEST, CHI2_BEST, 0, L, ALPHA0, I0, Z_R, MEASUREMENT)\n",
    "SIGMA_P[1], CHI2_SPAN[1] = Errorbar(P_BEST, CHI2_BEST, 1, L, ALPHA0, I0, Z_R, MEASUREMENT)\n",
    "\n",
    "\n",
    "# Generate and print output string\n",
    "OUTPUT_STRING = textstr = '\\n'.join((\n",
    "    r'Fitting parameters',\n",
    "    r'X2 = %.2f' % (CHI2_BEST, ),\n",
    "    r'z0 = (%.2f +- %.2f) mm; X2 span: %.2f' % (P_BEST[0], SIGMA_P[0], CHI2_SPAN[0], ),\n",
    "    r'beta = %.2e +- %.1e; X2 span: %.2f' % (P_BEST[1], SIGMA_P[1], CHI2_SPAN[1],)))\n",
    "print(OUTPUT_STRING)"
   ]
  },
  {
   "cell_type": "markdown",
   "metadata": {},
   "source": [
    "# Output results"
   ]
  },
  {
   "cell_type": "code",
   "execution_count": 13,
   "metadata": {},
   "outputs": [],
   "source": [
    "toOutput = False    # Prevent results to be overwritten\n",
    "\n",
    "if toOutput:\n",
    "    OUTPUT_FILENAME = 'OUTPUT_2PA_NO_SATURATION' + show.get()[:-4]\n",
    "    ## Export Parameters\n",
    "    PARAMETER_STRING = textstr = '\\n'.join((\n",
    "        r'Model parameters',\n",
    "        r'alpha0 = %.2f' % (ALPHA0, ),\n",
    "        r'w0 = %.2e' % (W0, ),\n",
    "        r'PLaser = %.2e' % (P_LASER,),\n",
    "        r'L = %.2f' % (L,)))\n",
    "\n",
    "    output_file = open(OUTPUT_FILENAME, 'wt')\n",
    "    output_file.write(PARAMETER_STRING)\n",
    "    output_file.write('\\n\\n')\n",
    "    output_file.write(OUTPUT_STRING)\n",
    "    output_file.close()\n",
    "    \n",
    "    ## Export Plot\n",
    "    fig_output = plt.figure()\n",
    "    plt.errorbar(Z_DATA, I_DATA, SIGMA_I, fmt= 'o')\n",
    "    plt.plot(Z_PLOT, transmittance(Z_PLOT, P_BEST[0], P_BEST[1], L, ALPHA0, I0, Z_R))\n",
    "\n",
    "    plt.xlabel('z [mm]')\n",
    "    plt.ylabel('Normalised Transmittance')\n",
    "    plt.title(OUTPUT_FILENAME)\n",
    "\n",
    "    plt.savefig(OUTPUT_FILENAME + '.png')"
   ]
  }
 ],
 "metadata": {
  "kernelspec": {
   "display_name": "Python 3.7.10 ('base')",
   "language": "python",
   "name": "python3"
  },
  "language_info": {
   "codemirror_mode": {
    "name": "ipython",
    "version": 3
   },
   "file_extension": ".py",
   "mimetype": "text/x-python",
   "name": "python",
   "nbconvert_exporter": "python",
   "pygments_lexer": "ipython3",
   "version": "3.7.10"
  },
  "orig_nbformat": 4,
  "vscode": {
   "interpreter": {
    "hash": "12cf4812d00f6cd4d8bd57490d5a92c593343521267e83ec5b30154d1bf4a651"
   }
  }
 },
 "nbformat": 4,
 "nbformat_minor": 2
}
