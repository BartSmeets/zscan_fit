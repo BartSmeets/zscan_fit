{
 "cells": [
  {
   "attachments": {},
   "cell_type": "markdown",
   "metadata": {},
   "source": [
    "2023 Bart Smeets\n",
    "\n",
    "# Power Measurement - Read Scope\n",
    "\n",
    "This code aims to read the data of a power measurement with the oscilloscope (Tektronix MDO3022)"
   ]
  },
  {
   "attachments": {},
   "cell_type": "markdown",
   "metadata": {},
   "source": [
    "## Imports\n",
    "- Import required packages"
   ]
  },
  {
   "cell_type": "code",
   "execution_count": null,
   "metadata": {},
   "outputs": [],
   "source": [
    "# Python standard library\n",
    "from datetime import datetime\n",
    "import tkinter as tk\n",
    "from tkinter import filedialog\n",
    "import os\n",
    "\n",
    "# Required\n",
    "import numpy as np\n",
    "import matplotlib.pyplot as plt\n",
    "import pandas as pd"
   ]
  },
  {
   "attachments": {},
   "cell_type": "markdown",
   "metadata": {},
   "source": [
    "## Load data\n",
    "\n",
    "- Open window to ask for data-file"
   ]
  },
  {
   "cell_type": "code",
   "execution_count": null,
   "metadata": {},
   "outputs": [],
   "source": [
    "# Set working directory\n",
    "INITIAL_PATH = os.environ.get('THESIS_DATA')\n",
    "\n",
    "# Create window for file selection\n",
    "root = tk.Tk()\n",
    "root.withdraw()\n",
    "root.attributes('-topmost', True)\n",
    "FILE_DIRECTORY = filedialog.askopenfilename(initialdir=INITIAL_PATH, title='Select Power Data')\n",
    "root.destroy()\n",
    "\n",
    "# Set work directory\n",
    "index = FILE_DIRECTORY.rfind('/')\n",
    "DIRECTORY  = FILE_DIRECTORY[:index]\n",
    "FILE_NAME = FILE_DIRECTORY[index+1:]\n",
    "os.chdir(DIRECTORY)\n",
    "\n",
    "# Load data\n",
    "measurement = pd.read_csv(FILE_DIRECTORY,header=None, skiprows=21,delimiter=',')\n",
    "MEASUREMENT = measurement.to_numpy()"
   ]
  },
  {
   "attachments": {},
   "cell_type": "markdown",
   "metadata": {},
   "source": [
    "## Calculate energy and power\n",
    "\n",
    "- Convert signal voltage to pulse energy and peak power"
   ]
  },
  {
   "cell_type": "code",
   "execution_count": null,
   "metadata": {},
   "outputs": [],
   "source": [
    "# Set laser and meter constants\n",
    "CONVERSION_RATE = 392.74    # Unit V/J\n",
    "FREQUENCY = 10    # Unit Hz\n",
    "PULSE_WIDTH = 6e-9 # 5-8 ns\n",
    "\n",
    "# Find delta (difference between maximum and baseline)\n",
    "## Find baseline\n",
    "indices = np.where(MEASUREMENT[:,0] < 0)    # Baseline indices\n",
    "BASELINE = np.average(MEASUREMENT[indices, 1])    # Calculate baseline value\n",
    "## Find maximum\n",
    "indices = np.where(MEASUREMENT[:,0] > 0)\n",
    "MAXIMUM = np.amax(MEASUREMENT[indices,1])\n",
    "## Calculate difference\n",
    "DELTA = MAXIMUM - BASELINE\n",
    "\n",
    "# Calculate corresponding energy and power\n",
    "ENERGY = DELTA / CONVERSION_RATE\n",
    "POWER = ENERGY / PULSE_WIDTH\n",
    "\n",
    "# Print Results\n",
    "OUTPUT_STRING = textstr = '\\n'.join((\n",
    "    r'Delta V = %.2f mV' % (DELTA*1e3, ),\n",
    "    r'Pulse Energy = %.2f uJ' % (ENERGY*1e6, ),\n",
    "    r'Peak Power = %.2f W' % (POWER, )))\n",
    "print(OUTPUT_STRING)"
   ]
  },
  {
   "attachments": {},
   "cell_type": "markdown",
   "metadata": {},
   "source": [
    "### Plot results"
   ]
  },
  {
   "cell_type": "code",
   "execution_count": null,
   "metadata": {},
   "outputs": [],
   "source": [
    "fig = plt.figure()\n",
    "\n",
    "## Plot data\n",
    "plt.plot(MEASUREMENT[:,0], MEASUREMENT[:,1], 'o', label='Data')    # Data\n",
    "plt.axhline(MAXIMUM, ls=':', color='green', label='Maximum')    # Maximum\n",
    "plt.axhline(BASELINE, ls=':', color='grey', label='Baseline')    # Baseline\n",
    "## Labels\n",
    "plt.ylabel('Signal [V]')\n",
    "plt.xlabel('Time [s]')\n",
    "plt.title('Oscilloscope Output')\n",
    "plt.legend()\n",
    "\n",
    "plt.show()"
   ]
  },
  {
   "attachments": {},
   "cell_type": "markdown",
   "metadata": {},
   "source": [
    "## Export Results\n",
    "\n",
    "- Export results in text-file\n",
    "- Export figures"
   ]
  },
  {
   "cell_type": "code",
   "execution_count": null,
   "metadata": {},
   "outputs": [],
   "source": [
    "# Define file names\n",
    "timeCode = datetime.now()\n",
    "OUTPUT_FILENAME = FILE_NAME[:-4]\n",
    "OUTPUT_DIRECTORY = DIRECTORY + '/OUTPUT_POWER_' + OUTPUT_FILENAME + '_' + timeCode.strftime(\"%Y%m%d-%H%M\")\n",
    "os.mkdir(OUTPUT_DIRECTORY)\n",
    "os.chdir(OUTPUT_DIRECTORY)\n",
    "\n",
    "\n",
    "# Save figure\n",
    "fig.savefig('OUTPUT_' + OUTPUT_FILENAME + '.png', bbox_inches='tight')\n",
    "\n",
    "# Write file\n",
    "output_file = open('OUTPUT_' + OUTPUT_FILENAME + '.txt', 'wt')\n",
    "output_file.write(OUTPUT_STRING)\n",
    "output_file.close()\n",
    "\n",
    "# Open output folder\n",
    "os.startfile(OUTPUT_DIRECTORY)"
   ]
  }
 ],
 "metadata": {
  "kernelspec": {
   "display_name": "venv",
   "language": "python",
   "name": "python3"
  },
  "language_info": {
   "codemirror_mode": {
    "name": "ipython",
    "version": 3
   },
   "file_extension": ".py",
   "mimetype": "text/x-python",
   "name": "python",
   "nbconvert_exporter": "python",
   "pygments_lexer": "ipython3",
   "version": "3.8.16"
  },
  "orig_nbformat": 4,
  "vscode": {
   "interpreter": {
    "hash": "4cb626f4d328c251a5eec14925eb8aedb74614e2951839ddafe09bc7277a0df9"
   }
  }
 },
 "nbformat": 4,
 "nbformat_minor": 2
}