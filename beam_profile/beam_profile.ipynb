{
 "cells": [
  {
   "attachments": {},
   "cell_type": "markdown",
   "metadata": {},
   "source": [
    "2023 Bart Smeets\n",
    "\n",
    "# Beam profile\n",
    "\n",
    "Notebook to analyse the beam profile.\n",
    "\n",
    "The data-files do not contain z-information, hence the z-data is generated based on an certain step size. To prevent misalignment, the data-files must be continous in z with identical step size."
   ]
  },
  {
   "attachments": {},
   "cell_type": "markdown",
   "metadata": {},
   "source": [
    "## Imports\n",
    "\n",
    "- Import the require packages."
   ]
  },
  {
   "cell_type": "code",
   "execution_count": null,
   "metadata": {},
   "outputs": [],
   "source": [
    "# Python standard library\n",
    "from datetime import datetime\n",
    "import tkinter as tk\n",
    "from tkinter import filedialog\n",
    "import os, sys, glob\n",
    "\n",
    "# Required\n",
    "import numpy as np\n",
    "import matplotlib.pyplot as plt\n",
    "import pandas as pd\n",
    "from scipy.optimize import curve_fit\n",
    "\n",
    "# Included in repository\n",
    "from module import gaussian, width"
   ]
  },
  {
   "attachments": {},
   "cell_type": "markdown",
   "metadata": {},
   "source": [
    "## User inputs\n",
    "\n",
    "- Open window to ask for directory and change working directory"
   ]
  },
  {
   "cell_type": "code",
   "execution_count": null,
   "metadata": {},
   "outputs": [],
   "source": [
    "WAVELENGTH = 532    # Unit nm\n",
    "STEP_SIZE = 1    # Unit mm\n",
    "\n",
    "# Set initial directory\n",
    "INITIAL_PATH = os.environ.get('HOMEPATH')\n",
    "\n",
    "# Create window for file selection\n",
    "root = tk.Tk()\n",
    "root.withdraw()\n",
    "root.attributes('-topmost', True)\n",
    "DIRECTORY = filedialog.askdirectory(initialdir=INITIAL_PATH, title='Select directory')\n",
    "root.destroy()\n",
    "\n",
    "# Set working directory\n",
    "os.chdir(DIRECTORY)"
   ]
  },
  {
   "attachments": {},
   "cell_type": "markdown",
   "metadata": {},
   "source": [
    "## Load Data\n",
    "DATA is a list containing 2D pandas data sets. <br>\n",
    "The data sets contain x- and y-measurements of the beam profile:\n",
    "<ul> \n",
    "    <li> First index changes changes the x- and y-coordinates of the measurement </li>\n",
    "    <li> Second index indicates the measured quantity: </li>\n",
    "    <ol>\n",
    "        <li> x-position </li>\n",
    "        <li> I(x) </li>\n",
    "        <li> y-position </li>\n",
    "        <li> I(y) </li>\n",
    "    </ol>\n",
    "</ul>"
   ]
  },
  {
   "cell_type": "code",
   "execution_count": null,
   "metadata": {},
   "outputs": [],
   "source": [
    "# Initialise data structures\n",
    "ALL_FILES = glob.glob('Data_*.txt')\n",
    "N_MEASUREMENTS = len(ALL_FILES)\n",
    "Z = STEP_SIZE * np.array(range(N_MEASUREMENTS))    # unit mm\n",
    "DATA = [None] * N_MEASUREMENTS\n",
    "\n",
    "# Check if ALL_FILES is empty\n",
    "if len(ALL_FILES) == 0:\n",
    "    sys.exit('No \"Data_*.txt\" in directory')\n",
    "\n",
    "# Store measurements in list\n",
    "for i in range(N_MEASUREMENTS):\n",
    "    file_name = ALL_FILES[i]\n",
    "    measurement = pd.read_csv(file_name,header=None, skiprows=11,delim_whitespace=True,encoding='latin1')\n",
    "    DATA[i] = measurement\n",
    "\n",
    "# Define output directory\n",
    "OUTPUT_DIRECTORY = './Output_Beam_Profile/'\n",
    "if not os.path.exists(OUTPUT_DIRECTORY):\n",
    "    os.mkdir(OUTPUT_DIRECTORY)\n",
    "os.chdir(OUTPUT_DIRECTORY)"
   ]
  },
  {
   "attachments": {},
   "cell_type": "markdown",
   "metadata": {},
   "source": [
    "### Exclude data\n",
    "\n",
    "- This section excludes data points\n",
    "\n",
    "- Fill in the index of the data point that needs to be removed"
   ]
  },
  {
   "cell_type": "code",
   "execution_count": null,
   "metadata": {},
   "outputs": [],
   "source": [
    "# USER INPUT\n",
    "exclude = []    # Enter index of datapoint to be excluded\n",
    "\n",
    "# Exclude data\n",
    "removed = 0\n",
    "for index in exclude:\n",
    "    DATA.pop(index-removed)\n",
    "    Z = np.delete(Z,index-removed,0)\n",
    "    removed += 1\n",
    "N_MEASUREMENTS -= removed"
   ]
  },
  {
   "attachments": {},
   "cell_type": "markdown",
   "metadata": {},
   "source": [
    "## Fit data"
   ]
  },
  {
   "attachments": {},
   "cell_type": "markdown",
   "metadata": {},
   "source": [
    "### Fit width (Gaussian)\n",
    "\n",
    "- Do a Gaussian fit of the I(x) and I(y) beam profiles, i.e. the intensity cross-section at a given z-coordinate"
   ]
  },
  {
   "cell_type": "code",
   "execution_count": null,
   "metadata": {},
   "outputs": [],
   "source": [
    "# Prepare data structure\n",
    "W = np.zeros((N_MEASUREMENTS,2))    # First column for beam widths; Second column for error on beam widths\n",
    "p0x = p0y = [1,0,100]    # First guess for fitting\n",
    "fig, ax = plt.subplots(N_MEASUREMENTS, 2, figsize=(10,3*N_MEASUREMENTS), tight_layout=True)\n",
    "\n",
    "# Compute results for every measurement\n",
    "for i in range(N_MEASUREMENTS):\n",
    "    ## Prepare data from measurement\n",
    "    ### Load x and y data separately from pandas data set\n",
    "    xdata = DATA[i].iloc[:,0:2]\n",
    "    ydata = DATA[i].iloc[:,2:4]\n",
    "    # Drop possible NaNs caused by an assymmetric measurement window\n",
    "    ydata = ydata.dropna()\n",
    "    xdata = xdata.dropna()\n",
    "    \n",
    "    # Load the different axes for convenient usage\n",
    "    xpos = xdata.iloc[:,0]\n",
    "    Ix = xdata.iloc[:,1]/100\n",
    "    ypos = ydata.iloc[:,0]\n",
    "    Iy = ydata.iloc[:,1]/100\n",
    "    \n",
    "    ## Actual fit\n",
    "    x_fit, _ = curve_fit(gaussian, xpos, Ix, p0x, bounds=[[0,-np.inf,0],[np.inf,np.inf,np.inf]])\n",
    "    y_fit, _ = curve_fit(gaussian, ypos, Iy, p0y, bounds=[[0,-np.inf,0],[np.inf,np.inf,np.inf]])\n",
    "    p0x = x_fit    # Adjust first guess to the current fitting results; only works if data is chronological\n",
    "    p0y = y_fit\n",
    "    sigma_x = np.sqrt(x_fit[2]/(2*np.sqrt(2*np.pi)*x_fit[0]))\n",
    "    sigma_y = np.sqrt(y_fit[2]/(2*np.sqrt(2*np.pi)*y_fit[0]))\n",
    "\n",
    "    \n",
    "    # Calculate Beam width (e^-2) as average x-width and y-width \n",
    "    wx = 2* abs(x_fit[2])    # e^-2 definition beam width\n",
    "    wy = 2* abs(y_fit[2])\n",
    "    diff = abs(wx - wy)\n",
    "    \n",
    "    # Check if Gaussian fit has failed\n",
    "    ## If Gaussian fit has failed only consider wx or wy\n",
    "    if x_fit[0]<0.1:\n",
    "        W[i,0] = wy\n",
    "        W[i,1] = 2*sigma_y\n",
    "        p0y[2] = p0x[2] = y_fit[2]\n",
    "    elif y_fit[0]<0.1:\n",
    "        W[i,0] = wx\n",
    "        W[i,1] = 2*sigma_x\n",
    "        p0x[2] = p0y[2] = x_fit[2]\n",
    "    ## If Gaussian fit has not failed, map ellipse to circle with equal area           \n",
    "    else:\n",
    "        W[i,0] = np.sqrt(wx*wy)    # Width \n",
    "        W[i,1] = np.sqrt(wy**2 / (wx*wy) * sigma_x**2 \n",
    "                         + wx**2 / (wx*wy) * sigma_y**2)    # Std\n",
    "\n",
    "    # Plot sub-figure\n",
    "    x_linspace = np.linspace(xpos[0],xpos.iloc[-1], 1000)\n",
    "    y_linspace = np.linspace(ypos[0],ypos.iloc[-1], 1000)\n",
    "    ## Plot x axis\n",
    "    ax[i, 0].plot(xpos, Ix, 'o', label='Data')\n",
    "    ax[i, 0].plot(x_linspace, gaussian(x_linspace, *x_fit), label='Fit')\n",
    "    ax[i, 0].text(xpos[0],0.9,str(wx))\n",
    "    ax[i,0].text(xpos[0],0.8, 'Index = ' + str(i))    # Print index\n",
    "    ## Plot y axis\n",
    "    ax[i, 1].plot(ypos, Iy, 'o', label='Data')\n",
    "    ax[i, 1].plot(y_linspace, gaussian(y_linspace, *y_fit), label='Fit')\n",
    "    ax[i, 1].text(ypos[0],0.9,str(wy))\n",
    "\n",
    "plt.show()"
   ]
  },
  {
   "attachments": {},
   "cell_type": "markdown",
   "metadata": {},
   "source": [
    "### Fit beam profile\n",
    "\n",
    "- Fit the beam radius, w(z)"
   ]
  },
  {
   "cell_type": "code",
   "execution_count": null,
   "metadata": {},
   "outputs": [],
   "source": [
    "W_PARAM, VARW  = curve_fit(lambda x, w0, z0, M2: width(x, w0, z0, M2, WAVELENGTH), \n",
    "                     Z, W[:,0], [10,10e3,1], \n",
    "                     sigma=W[:,1], bounds=[[0,-np.inf,1],[np.inf,np.inf,np.inf]], absolute_sigma=True)\n",
    "[W0, Z0, M2] =  W_PARAM\n",
    "ZR = np.pi*(W0**2) / (M2*WAVELENGTH*1e-3)    # Rayleigh length\n",
    "\n",
    "# Error propagation\n",
    "SIGMA_W = np.sqrt(np.diag(VARW)[0])    # Error on beam waist\n",
    "SIGMA_Z = np.sqrt(np.diag(VARW)[1])*1e-3    # Error on z-position of focal point\n",
    "SIGMA_M2 = np.sqrt(np.diag(VARW)[2])    # Error on M^2\n",
    "dz_dw = (2*np.pi*W0) / (M2*WAVELENGTH*1e-3)\n",
    "dz_dM2 = (np.pi*(W0**2)) / (WAVELENGTH*1e-3*(M2**2))\n",
    "SIGMA_ZR = np.sqrt((dz_dw**2)*(SIGMA_W**2) + (dz_dM2**2)*(SIGMA_M2**2))    # Error on Rayleigh length\n",
    "\n",
    "## Plot\n",
    "### Prepare plot\n",
    "Z_PLOT = np.linspace(0,Z[-1], 500)    # linspace for plotting\n",
    "textstr = '\\n'.join((\n",
    "    r'$w_{0}=(%.2f \\pm %.2f)\\mu m$' % (W0, SIGMA_W,),\n",
    "    r'$z_{0}=(%.2f \\pm %.2f)mm$' % (Z0*1e-3, SIGMA_Z,),\n",
    "    r'$z_{R}=(%.0f \\pm %.0f)\\mu m$' % (ZR, SIGMA_ZR,),\n",
    "    r'$M^{2}=(%.2f \\pm %.2f)$' % (M2, SIGMA_M2,)))\n",
    "fig2 = plt.figure()\n",
    "### Plot\n",
    "plt.plot(Z, W[:,0],'o', label='Data')\n",
    "plt.plot(Z_PLOT, width(Z_PLOT, *W_PARAM, WAVELENGTH), label='Fit')\n",
    "plt.text(0,10,textstr)\n",
    "### Labels\n",
    "plt.ylabel('Beam width [$\\mu$m]')\n",
    "plt.xlabel('z [mm]')\n",
    "\n",
    "plt.show()"
   ]
  },
  {
   "attachments": {},
   "cell_type": "markdown",
   "metadata": {},
   "source": [
    "## Export Results\n",
    "\n",
    "- Export results in text-file\n",
    "- Export figures"
   ]
  },
  {
   "cell_type": "code",
   "execution_count": null,
   "metadata": {},
   "outputs": [],
   "source": [
    "# Create export directory\n",
    "timeCode = datetime.now()\n",
    "EXPORT_DIRECTORY = DIRECTORY + \"/OUTPUT_BEAM_PROFILE_\"  + timeCode.strftime(\"%Y%m%d-%H%M\")\n",
    "os.mkdir(EXPORT_DIRECTORY)\n",
    "os.chdir(EXPORT_DIRECTORY)\n",
    "\n",
    "# Save figures\n",
    "fig.savefig(\"OUTPUT_WIDTHS.png\", bbox_inches='tight')\n",
    "fig2.savefig('OUTPUT_BEAM_PROFILE.png', bbox_inches='tight')\n",
    "\n",
    "# Prepare export structure\n",
    "EXPORT_DATA = np.ndarray((5,4), dtype=object)\n",
    "EXPORT_TITLE = 'RESULTS_BEAM_PROFILE.txt'\n",
    "\n",
    "# Write labels\n",
    "EXPORT_DATA[0,0] = 'Parameter'\n",
    "EXPORT_DATA[0,1] = 'Value'\n",
    "EXPORT_DATA[0,2] = 'Sigma'\n",
    "EXPORT_DATA[0,3] = 'Unit'\n",
    "\n",
    "EXPORT_DATA[1,0] = 'w0'\n",
    "EXPORT_DATA[2,0] = 'z0'\n",
    "EXPORT_DATA[3,0] = 'M2'\n",
    "EXPORT_DATA[4,0] = 'zR'\n",
    "\n",
    "# Write data\n",
    "EXPORT_DATA[1,1] = W0    # Unit um\n",
    "EXPORT_DATA[2,1] = Z0 *1e-3    # Unit mm\n",
    "EXPORT_DATA[3,1] = M2\n",
    "EXPORT_DATA[4,1] = ZR    # Unit um\n",
    "\n",
    "EXPORT_DATA[1,2] = SIGMA_W\n",
    "EXPORT_DATA[2,2] = SIGMA_Z\n",
    "EXPORT_DATA[3,2] = SIGMA_M2\n",
    "EXPORT_DATA[4,2] = SIGMA_ZR\n",
    "\n",
    "# Write units\n",
    "EXPORT_DATA[1,3] = 'um'\n",
    "EXPORT_DATA[2,3] = 'mm'\n",
    "EXPORT_DATA[3,3] = 'NA'\n",
    "EXPORT_DATA[4,3] = 'um'\n",
    "\n",
    "np.savetxt(EXPORT_TITLE, EXPORT_DATA, fmt=\"%s\")\n",
    "\n",
    "# Open output folder\n",
    "os.startfile(EXPORT_DIRECTORY)"
   ]
  }
 ],
 "metadata": {
  "kernelspec": {
   "display_name": "venv",
   "language": "python",
   "name": "python3"
  },
  "language_info": {
   "codemirror_mode": {
    "name": "ipython",
    "version": 3
   },
   "file_extension": ".py",
   "mimetype": "text/x-python",
   "name": "python",
   "nbconvert_exporter": "python",
   "pygments_lexer": "ipython3",
   "version": "3.8.16"
  },
  "orig_nbformat": 4,
  "vscode": {
   "interpreter": {
    "hash": "4cb626f4d328c251a5eec14925eb8aedb74614e2951839ddafe09bc7277a0df9"
   }
  }
 },
 "nbformat": 4,
 "nbformat_minor": 2
}
