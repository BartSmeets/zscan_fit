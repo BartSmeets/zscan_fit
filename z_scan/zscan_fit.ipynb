{
 "cells": [
  {
   "attachments": {},
   "cell_type": "markdown",
   "metadata": {},
   "source": [
    "2023 Bart Smeets\n",
    "\n",
    "# Z-Scan Fit\n",
    "\n",
    "Notebook to fit the nonlinear absorption models\n",
    "\n",
    "- 'INPUT_PARAMETERS.csv' containging the experiment parameters is required\n",
    "    - This file is generated when normalising the data or can be found in the 'templates' folder"
   ]
  },
  {
   "attachments": {},
   "cell_type": "markdown",
   "metadata": {},
   "source": [
    "## Imports\n",
    "\n",
    "- Import required packages"
   ]
  },
  {
   "cell_type": "code",
   "execution_count": null,
   "metadata": {},
   "outputs": [],
   "source": [
    "# Python standard library\n",
    "from datetime import datetime\n",
    "import os, sys\n",
    "import tkinter as tk\n",
    "from tkinter import filedialog\n",
    "\n",
    "# Required\n",
    "import numpy as np\n",
    "import pandas as pd\n",
    "import matplotlib.pyplot as plt\n",
    "\n",
    "# Included in repository\n",
<<<<<<< Updated upstream:zscan_fit.ipynb
    "from z_scan import errorbar\n",
    "from z_scan import export_functions\n",
    "from z_scan import fitting_model\n",
    "from z_scan.fitting_model.absorption import intensity"
=======
    "import errorbar\n",
    "import export_functions\n",
    "import fitting_model\n",
    "from fitting_model.absorption import intensity"
>>>>>>> Stashed changes:z_scan/zscan_fit.ipynb
   ]
  },
  {
   "attachments": {},
   "cell_type": "markdown",
   "metadata": {},
   "source": [
    "## Load data\n",
    "\n",
    "- Load data and 'INPUT_PARAMETERS.csv'\n",
    "- Calculate I0"
   ]
  },
  {
   "cell_type": "code",
   "execution_count": null,
   "metadata": {},
   "outputs": [],
   "source": [
    "# Create window to select data-file\n",
    "INITIAL_PATH = os.environ.get('HOMEPATH')\n",
    "root = tk.Tk()\n",
    "root.withdraw()\n",
    "root.attributes('-topmost', True)\n",
    "FILE_PATH = filedialog.askopenfilename(initialdir=INITIAL_PATH, title='Select data')\n",
    "root.destroy()\n",
    "\n",
    "\n",
    "# Change working directory\n",
    "## Directory is the folder where the selected file is located\n",
    "index = FILE_PATH.rfind('/')\n",
    "DIRECTORY = FILE_PATH[:index]\n",
    "FILE_NAME = FILE_PATH[index+1:-4]\n",
    "os.chdir(DIRECTORY)\n",
    "\n",
    "\n",
    "# Load data\n",
    "## And seperate into physical arrays\n",
    "MEASUREMENT = np.loadtxt(FILE_NAME + '.txt')\n",
    "Z_DATA = MEASUREMENT[:, 0]\n",
    "I_DATA = MEASUREMENT[:, 1]\n",
    "SIGMA_I = MEASUREMENT[:,2]\n",
    "\n",
    "\n",
    "# Load parameter data (if existing)\n",
    "if os.path.exists('INPUT_PARAMETERS.csv'):\n",
    "    PARAMETER_DATA = pd.read_csv('INPUT_PARAMETERS.csv', sep=r';', header=0, skiprows=[1], skipinitialspace = True)\n",
    "else:\n",
    "    sys.exit('\"INPUT_PARAMETERS.csv\" not in directory')\n",
    "\n",
    "\n",
    "# Convert parameters to proper units\n",
    "PULSE_WIDTH = 6e-9 # 5-8 ns\n",
    "ALPHA0 = float(PARAMETER_DATA['alpha']) / 10    # Convert cm-1 to mm-1\n",
    "Z_R = float(PARAMETER_DATA['zR']) * 1e-3    # Convert um to mm\n",
    "W0 = float(PARAMETER_DATA['W0']) * 1e-3   # Convert um to mm\n",
    "E_PULSE = float(PARAMETER_DATA['Pulse Energy']) * 1e-6    # Convert uJ to J\n",
    "P_LASER = E_PULSE / 6e-9\n",
    "I0 = 2*P_LASER / (np.pi * W0**2)\n",
    "L = float(PARAMETER_DATA['L']) * 10   # Convert cm to mm\n",
    "\n",
    "print(r'I0 = %.2e W/mm-2' %(I0,))"
   ]
  },
  {
   "attachments": {},
   "cell_type": "markdown",
   "metadata": {},
   "source": [
    "## Plot raw data"
   ]
  },
  {
   "cell_type": "code",
   "execution_count": null,
   "metadata": {},
   "outputs": [],
   "source": [
    "fig1 = plt.figure()\n",
    "\n",
    "plt.errorbar(Z_DATA, I_DATA, SIGMA_I, fmt='o')\n",
    "\n",
    "plt.title('Raw Data')\n",
    "plt.xlabel('z [mm]')\n",
    "plt.ylabel('Normalised transmittance')\n",
    "\n",
    "plt.show"
   ]
  },
  {
   "attachments": {},
   "cell_type": "markdown",
   "metadata": {},
   "source": [
    "## Fit\n",
    "\n",
    "- Run basin hopping algorithm"
   ]
  },
  {
   "cell_type": "code",
   "execution_count": null,
   "metadata": {},
   "outputs": [],
   "source": [
    "# User Input\n",
    "## Fit type\n",
    "### 0: 1PA | 1: 2PA no Is2 | 2: 2PA | 3: 2PA no Is1 | 4: 2PA no sat\n",
    "FIT_TYPE = 0\n",
    "## Initial guess\n",
    "### Only the parameters corresponding to FIT_TYPE are considered. The others are ignored.\n",
    "Z0_0 = 0\n",
    "I_S1_0 = 1e5\n",
    "I_S2_0 = 1e-5\n",
    "BETA_0 = 1e-5\n",
    "## Model Parameters\n",
    "N_RUNS = 3                     # Number of independent model calculations\n",
    "MAX_PERTURBATION = 10              # Max perturbation size \n",
    "BOUNDS = [(None, None), (1e-99, None), (1e-99, None), (0, None)]  # Bounds of fitting-parameters: z0, Is1\n",
    "MAX_ITER = 500                    # Max number of iterations (stop-condition) (0 = classical algorithm)\n",
    "MAX_AGE = 50                      # Max age of best Chi2 (stop-condition)\n",
    "T = 0.8                            # Temperature (related to probability of a non optimal chi2 being taken as step)\n",
    "MAX_JUMP = 5                       # Number of jumps permitted\n",
    "MAX_REJECT = 5                     # Local minimum treshold\n",
    "\n",
    "\n",
    "# Pack Parameters\n",
    "P0 = [Z0_0, I_S1_0, I_S2_0, BETA_0]\n",
    "MODEL_PARAMETERS = [MAX_PERTURBATION, MAX_AGE, MAX_ITER, BOUNDS, T, MAX_JUMP, MAX_REJECT]\n",
    "EXPERIMENT_PARAM = [L, ALPHA0, I0, Z_R]\n",
    "\n",
    "# Run model\n",
    "RUNS, P_BEST, CHI2_BEST = fitting_model.run(MEASUREMENT, FIT_TYPE, N_RUNS, P0, MODEL_PARAMETERS, EXPERIMENT_PARAM)\n",
    "RESULT_STRING = export_functions.text.best(FIT_TYPE, CHI2_BEST, P_BEST)\n",
    "print(RESULT_STRING)"
   ]
  },
  {
   "attachments": {},
   "cell_type": "markdown",
   "metadata": {},
   "source": [
    "## Plot results\n",
    "\n",
    "- Plot T(z) (with and without I(z))\n",
    "- Plot T(I)"
   ]
  },
  {
   "cell_type": "code",
   "execution_count": null,
   "metadata": {},
   "outputs": [],
   "source": [
    "Z_PLOT = np.linspace(Z_DATA[0], Z_DATA[-1], 1000)\n",
    "SIGMA_PLOT = np.ones(np.size(SIGMA_I)) * np.average(SIGMA_I)\n",
    "\n",
    "# Prepare Title\n",
    "FIT_TYPE_STRING = ['1PA', '2PA_no_Is2', '2PA', '2PA_no_Is1', '2PA_no_sat'][FIT_TYPE]\n",
    "TITLE = FIT_TYPE_STRING + '_' + FILE_NAME\n",
    "\n",
    "\n",
    "# T(z)\n",
    "fig2, ax2 = plt.subplots()\n",
    "export_functions.plot.Tz(ax2, Z_DATA, I_DATA, Z_PLOT, SIGMA_PLOT, FIT_TYPE, P_BEST, EXPERIMENT_PARAM)\n",
    "## Labels\n",
    "ax2.set_xlabel('z [mm]')\n",
    "ax2.set_ylabel('Normalised Transmittance')\n",
    "ax2.set_title(TITLE)\n",
    "plt.show()\n",
    "\n",
    "\n",
    "# T(z) with I(z)\n",
    "fig2_2, ax2_2 = plt.subplots()\n",
    "ax2_3 = ax2_2.twinx()  \n",
    "export_functions.plot.Tz(ax2_2, Z_DATA, I_DATA, Z_PLOT, SIGMA_PLOT, FIT_TYPE, P_BEST, EXPERIMENT_PARAM)\n",
    "ax2_3.plot(Z_PLOT, intensity(Z_PLOT, P_BEST[0], I0, Z_R), linestyle=':', color='red')\n",
    "ax2_2.set_xlabel('z [mm]')\n",
    "ax2_2.set_ylabel('Normalised Transmittance')\n",
    "ax2_2.set_title(TITLE)\n",
    "ax2_3.set_ylabel(r'Intensity [W/mm$^{2}$]', color='red')\n",
    "ax2_3.tick_params(axis='y', labelcolor='red')\n",
    "plt.show()\n",
    "\n",
    "\n",
    "# T(I)\n",
    "fig2_1, ax2_1 = plt.subplots()\n",
    "export_functions.plot.TI(ax2_1, Z_DATA, I_DATA, Z_PLOT, SIGMA_PLOT, FIT_TYPE, P_BEST, EXPERIMENT_PARAM)\n",
    "##Labels\n",
    "ax2_1.set_xlabel(r'Intensity [W/mm$^{2}$]')\n",
    "ax2_1.set_ylabel('Normalised Transmittance')\n",
    "ax2_1.set_title(TITLE)\n",
    "ax2_1.legend()\n",
    "plt.show()\n",
    "\n",
    "\n",
    "# Plot all runs\n",
    "fig3, ax3 = plt.subplots(N_RUNS, 1, figsize=(10,3*N_RUNS))\n",
    "for i in range(N_RUNS):\n",
    "    textstr = export_functions.text.individual(FIT_TYPE, RUNS, i)\n",
    "    export_functions.plot.Tz(ax3[i], Z_DATA, I_DATA, Z_PLOT, SIGMA_PLOT, FIT_TYPE, RUNS[i,:-1], EXPERIMENT_PARAM)\n",
    "    ax3[i].text(5,1.1, textstr)\n",
    "plt.show()"
   ]
  },
  {
   "attachments": {},
   "cell_type": "markdown",
   "metadata": {},
   "source": [
    "## Calculate errorbars"
   ]
  },
  {
   "cell_type": "code",
   "execution_count": null,
   "metadata": {},
   "outputs": [],
   "source": [
    "SIGMA_P, CHI2_SPAN = errorbar.compute(MEASUREMENT, FIT_TYPE, P_BEST, CHI2_BEST, EXPERIMENT_PARAM)\n",
    "OUTPUT_STRING = export_functions.text.output(FIT_TYPE, CHI2_BEST, P_BEST, SIGMA_P, CHI2_SPAN)\n",
    "print(OUTPUT_STRING)"
   ]
  },
  {
   "attachments": {},
   "cell_type": "markdown",
   "metadata": {},
   "source": [
    "## Export Results\n",
    "\n",
    "- Export results in text-file\n",
    "- Export figures"
   ]
  },
  {
   "cell_type": "code",
   "execution_count": null,
   "metadata": {},
   "outputs": [],
   "source": [
    "# Create export directory\n",
    "timeCode = datetime.now()\n",
    "EXPORT_DIRECTORY = DIRECTORY + \"/OUTPUT_FIT_\" + TITLE + '_' + timeCode.strftime(\"%Y%m%d-%H%M\")\n",
    "os.mkdir(EXPORT_DIRECTORY)\n",
<<<<<<< Updated upstream:zscan_fit.ipynb
    "os.chdir(EXPORT_DIRECTORY)\n",
    "\n",
    "# Save figures\n",
    "fig1.savefig('OUTPUT_' + TITLE + '_RAW_DATA.png', bbox_inches='tight')\n",
    "fig2.savefig('OUTPUT_' + TITLE + '_Tz.png', bbox_inches='tight')\n",
    "fig2_1.savefig('OUTPUT_' + TITLE + '_TI.png', bbox_inches='tight')\n",
    "fig2_2.savefig('OUTPUT_' + TITLE + '_Tz_TI.png', bbox_inches='tight')\n",
    "fig3.savefig('OUTPUT_' + TITLE + '_ALL_RUNS.png', bbox_inches='tight')\n",
=======
    "\n",
    "# Save figures\n",
    "fig1.savefig(EXPORT_DIRECTORY + '/OUTPUT_' + TITLE + '_RAW_DATA.png', bbox_inches='tight')\n",
    "fig2.savefig(EXPORT_DIRECTORY + '/OUTPUT_' + TITLE + '_Tz.png', bbox_inches='tight')\n",
    "fig2_1.savefig(EXPORT_DIRECTORY + '/OUTPUT_' + TITLE + '_TI.png', bbox_inches='tight')\n",
    "fig2_2.savefig(EXPORT_DIRECTORY + '/OUTPUT_' + TITLE + '_Tz_TI.png', bbox_inches='tight')\n",
    "fig3.savefig(EXPORT_DIRECTORY + '/OUTPUT_' + TITLE + '_ALL_RUNS.png', bbox_inches='tight')\n",
>>>>>>> Stashed changes:z_scan/zscan_fit.ipynb
    "\n",
    "# Export results\n",
    "## Prepare Parameter string for export\n",
    "PARAMETER_STRING = textstr = '\\n'.join((\n",
    "    r'Model Parameters',\n",
    "    r'alpha0 = %.2f cm-1' % (ALPHA0*10, ),\n",
    "    r'L = %.1f cm' % (L/10, ),\n",
    "    r'w0 = %.2f um' % (W0*1e3, ),\n",
    "    r'zR = %.2f um' % (Z_R*1e3, ),\n",
    "    r'E_pulse = %.2f uJ' % (E_PULSE*1e6, ),\n",
    "    r'I0 = %.2e  W/mm2' % (I0, )))\n",
    "\n",
<<<<<<< Updated upstream:zscan_fit.ipynb
    "output_file = open('RESULTS_' + TITLE + '.txt', 'wt')\n",
=======
    "output_file = open(EXPORT_DIRECTORY + '/RESULTS_' + TITLE + '.txt', 'wt')\n",
>>>>>>> Stashed changes:z_scan/zscan_fit.ipynb
    "output_file.write(PARAMETER_STRING)\n",
    "output_file.write('\\n\\n')\n",
    "output_file.write(OUTPUT_STRING)\n",
    "output_file.close()\n",
    "\n",
    "# Open output folder\n",
    "os.startfile(EXPORT_DIRECTORY)"
   ]
  }
 ],
 "metadata": {
  "kernelspec": {
   "display_name": "venv",
   "language": "python",
   "name": "python3"
  },
  "language_info": {
   "codemirror_mode": {
    "name": "ipython",
    "version": 3
   },
   "file_extension": ".py",
   "mimetype": "text/x-python",
   "name": "python",
   "nbconvert_exporter": "python",
   "pygments_lexer": "ipython3",
   "version": "3.8.16"
  },
  "orig_nbformat": 4,
  "vscode": {
   "interpreter": {
    "hash": "4cb626f4d328c251a5eec14925eb8aedb74614e2951839ddafe09bc7277a0df9"
   }
  }
 },
 "nbformat": 4,
 "nbformat_minor": 2
}
